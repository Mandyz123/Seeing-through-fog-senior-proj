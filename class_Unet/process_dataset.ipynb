{
 "cells": [
  {
   "cell_type": "code",
   "execution_count": 4,
   "metadata": {},
   "outputs": [],
   "source": [
    "import numpy as np\n",
    "import skimage.transform as skt\n",
    "import matplotlib.pyplot as plt\n",
    "import scipy.io as sio\n",
    "import os\n",
    "import skimage.transform as skt\n",
    "import my_alg\n",
    "import tensorflow as tf"
   ]
  },
  {
   "cell_type": "code",
   "execution_count": 5,
   "metadata": {
    "tags": []
   },
   "outputs": [],
   "source": [
    "#set right directory on you computer\n",
    "ref_dir = r'C:\\Users\\Mz406\\OneDrive - University of Utah\\Senior Project\\Images\\GndTruth_400x400'\n",
    "ccm_dir = r'C:\\Users\\Mz406\\OneDrive - University of Utah\\Senior Project\\Images\\DiffusedPics'"
   ]
  },
  {
   "cell_type": "code",
   "execution_count": 6,
   "metadata": {
    "tags": []
   },
   "outputs": [
    {
     "data": {
      "text/plain": [
       "800"
      ]
     },
     "execution_count": 6,
     "metadata": {},
     "output_type": "execute_result"
    }
   ],
   "source": [
    "file_lst = os.listdir( ccm_dir)\n",
    "len( file_lst)"
   ]
  },
  {
   "cell_type": "code",
   "execution_count": 7,
   "metadata": {
    "tags": []
   },
   "outputs": [
    {
     "name": "stdout",
     "output_type": "stream",
     "text": [
      "100\n",
      "200\n",
      "300\n",
      "400\n",
      "500\n",
      "600\n",
      "700\n",
      "800\n"
     ]
    }
   ],
   "source": [
    "ref_imgs = []\n",
    "ref_imgs1 = []\n",
    "ccm_imgs = []\n",
    "ccm_imgs1 = []\n",
    "reshape_shape = [128,128] #[128,128,3]\n",
    "\n",
    "for i in range(len( file_lst)):\n",
    "    i = i + 1\n",
    "    ref_img_path = os.path.join( ref_dir, '%i.png'%i) #i is the name of the images. Name your images as 1, 2, 3, 4,....\n",
    "    ref_img = plt.imread(ref_img_path)\n",
    "    ref_img = ref_img - np.min( ref_img)\n",
    "    ref_img = ref_img / np.max( ref_img)\n",
    "    ref_img = skt.resize( ref_img, reshape_shape)\n",
    "    ref_imgs.append( ref_img)\n",
    "\n",
    "    ccm_img_path = os.path.join( ccm_dir, '%i.png'%i)\n",
    "    ccm_img = plt.imread(ccm_img_path)\n",
    "    ccm_img = ccm_img - np.min( ccm_img)\n",
    "    ccm_img = ccm_img / np.max( ccm_img)\n",
    "    ccm_img = skt.resize( ccm_img, reshape_shape)\n",
    "    ccm_imgs.append( ccm_img)\n",
    "\n",
    "    if i % 100 == 0:\n",
    "        print(i)\n",
    "    \n",
    "ref_imgs = np.array( ref_imgs)\n",
    "ccm_imgs = np.array( ccm_imgs)"
   ]
  },
  {
   "cell_type": "code",
   "execution_count": 8,
   "metadata": {
    "jupyter": {
     "outputs_hidden": true
    },
    "tags": []
   },
   "outputs": [],
   "source": [
    "#save the processed dataset: You need to adjust the directory.\n",
    "np.save( 'C:/Users/Mz406/OneDrive - University of Utah/Senior Project/Images/DiffusedPics800',ccm_imgs)\n",
    "np.save( 'C:/Users/Mz406/OneDrive - University of Utah/Senior Project/Images/GndTruth400x400',ref_imgs)"
   ]
  },
  {
   "cell_type": "code",
   "execution_count": null,
   "metadata": {},
   "outputs": [],
   "source": []
  }
 ],
 "metadata": {
  "kernelspec": {
   "display_name": "Python 3 (ipykernel)",
   "language": "python",
   "name": "python3"
  },
  "language_info": {
   "codemirror_mode": {
    "name": "ipython",
    "version": 3
   },
   "file_extension": ".py",
   "mimetype": "text/x-python",
   "name": "python",
   "nbconvert_exporter": "python",
   "pygments_lexer": "ipython3",
   "version": "3.9.13"
  }
 },
 "nbformat": 4,
 "nbformat_minor": 4
}
